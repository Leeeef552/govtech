{
 "cells": [
  {
   "cell_type": "code",
   "execution_count": 1,
   "id": "6664d634",
   "metadata": {},
   "outputs": [],
   "source": [
    "import requests\n",
    "import csv\n",
    "from pathlib import Path"
   ]
  },
  {
   "cell_type": "markdown",
   "id": "284060d1",
   "metadata": {},
   "source": [
    "### configs"
   ]
  },
  {
   "cell_type": "code",
   "execution_count": 2,
   "id": "38dc08f9",
   "metadata": {},
   "outputs": [],
   "source": [
    "data_dir = Path(\"data\")\n",
    "data_dir.mkdir(parents=True, exist_ok=True)"
   ]
  },
  {
   "cell_type": "markdown",
   "id": "2bb9da32",
   "metadata": {},
   "source": [
    "### BTO data"
   ]
  },
  {
   "cell_type": "code",
   "execution_count": 3,
   "id": "39b4250f",
   "metadata": {},
   "outputs": [
    {
     "name": "stdout",
     "output_type": "stream",
     "text": [
      "Downloading BTO dataset...\n",
      "✅ Saved data/BTO_prices_Apr2008_Mar2023.csv\n"
     ]
    }
   ],
   "source": [
    "# --------------------------\n",
    "# Download BTO Dataset (Apr 2008 – Mar 2023)\n",
    "# --------------------------\n",
    "bto_dataset_id = \"d_2d493bdcc1d9a44828b6e71cb095b88d\"\n",
    "bto_url = f\"https://data.gov.sg/api/action/datastore_search?resource_id={bto_dataset_id}&limit=50000\"\n",
    "\n",
    "print(\"Downloading BTO dataset...\")\n",
    "try:\n",
    "    bto_response = requests.get(bto_url).json()\n",
    "    \n",
    "    if bto_response.get(\"success\") and \"result\" in bto_response:\n",
    "        bto_records = bto_response[\"result\"][\"records\"]\n",
    "        if bto_records:\n",
    "            bto_filename = data_dir / \"BTO_prices_Apr2008_Mar2023.csv\"\n",
    "            with open(bto_filename, mode=\"w\", newline=\"\", encoding=\"utf-8\") as file:\n",
    "                writer = csv.DictWriter(file, fieldnames=bto_records[0].keys())\n",
    "                writer.writeheader()\n",
    "                writer.writerows(bto_records)\n",
    "            print(f\"✅ Saved {bto_filename}\")\n",
    "        else:\n",
    "            print(\"❌ No BTO records found.\")\n",
    "    else:\n",
    "        print(\"❌ Failed to fetch BTO dataset.\")\n",
    "except Exception as e:\n",
    "    print(f\"❌ Error downloading BTO dataset: {e}\")"
   ]
  },
  {
   "cell_type": "markdown",
   "id": "19d99454",
   "metadata": {},
   "source": [
    "### Resale data"
   ]
  },
  {
   "cell_type": "code",
   "execution_count": 5,
   "id": "f7cb9fce",
   "metadata": {},
   "outputs": [
    {
     "name": "stdout",
     "output_type": "stream",
     "text": [
      "⬇️ Downloading dataset: d_8b84c4ee58e3cfc0ece0d773c8ca6abc\n",
      "⬇️ Downloading dataset: d_43f493c6c50d54243cc1eab0df142d6a\n",
      "⬇️ Downloading dataset: d_2d5ff9ea31397b66239f245f57751537\n",
      "⬇️ Downloading dataset: d_ebc5ab87086db484f88045b47411ebc5\n",
      "⬇️ Downloading dataset: d_ea9ed51da2787afaf8e51f827c304208\n",
      "✅ Saved data/resale_d_ea9ed51da2787afaf8e51f827c304208.csv with 37153 rows\n",
      "✅ Saved data/resale_d_2d5ff9ea31397b66239f245f57751537.csv with 52203 rows\n",
      "✅ Saved data/resale_d_8b84c4ee58e3cfc0ece0d773c8ca6abc.csv with 214695 rows\n",
      "✅ Saved data/resale_d_ebc5ab87086db484f88045b47411ebc5.csv with 287196 rows\n",
      "✅ Saved data/resale_d_43f493c6c50d54243cc1eab0df142d6a.csv with 369651 rows\n"
     ]
    }
   ],
   "source": [
    "from concurrent.futures import ThreadPoolExecutor, as_completed\n",
    "\n",
    "\n",
    "collection_id = \"189\"\n",
    "url_metadata = f\"https://api-production.data.gov.sg/v2/public/api/collections/{collection_id}/metadata\"\n",
    "\n",
    "def fetch_dataset(dataset_id):\n",
    "    print(f\"⬇️ Downloading dataset: {dataset_id}\")\n",
    "    all_records = []\n",
    "    offset = 0\n",
    "    limit = 5000\n",
    "    base_url = \"https://data.gov.sg/api/action/datastore_search\"\n",
    "\n",
    "    while True:\n",
    "        url = f\"{base_url}?resource_id={dataset_id}&limit={limit}&offset={offset}\"\n",
    "        response = requests.get(url)\n",
    "        data = response.json()\n",
    "\n",
    "        if not data.get('success'):\n",
    "            print(f\"❌ Failed to fetch {dataset_id}: {data.get('error', {})}\")\n",
    "            return\n",
    "\n",
    "        records = data['result']['records']\n",
    "        if not records:\n",
    "            break\n",
    "\n",
    "        all_records.extend(records)\n",
    "        offset += limit\n",
    "\n",
    "    if not all_records:\n",
    "        print(f\"⚠️ No records found for {dataset_id}\")\n",
    "        return\n",
    "\n",
    "    filename = data_dir / f\"resale_{dataset_id}.csv\"\n",
    "    with open(filename, mode=\"w\", newline=\"\", encoding=\"utf-8\") as file:\n",
    "        writer = csv.DictWriter(file, fieldnames=all_records[0].keys())\n",
    "        writer.writeheader()\n",
    "        writer.writerows(all_records)\n",
    "\n",
    "    print(f\"✅ Saved {filename} with {len(all_records)} rows\")\n",
    "\n",
    "\n",
    "try:\n",
    "    response = requests.get(url_metadata)\n",
    "    collection_data = response.json()\n",
    "    child_datasets = collection_data['data']['collectionMetadata']['childDatasets']\n",
    "\n",
    "    with ThreadPoolExecutor(max_workers=5) as executor:\n",
    "        futures = {executor.submit(fetch_dataset, ds): ds for ds in child_datasets}\n",
    "        for future in as_completed(futures):\n",
    "            ds = futures[future]\n",
    "            try:\n",
    "                future.result()\n",
    "            except Exception as e:\n",
    "                print(f\"❌ Error with dataset {ds}: {e}\")\n",
    "\n",
    "except Exception as e:\n",
    "    print(f\"❌ Error fetching metadata: {e}\")\n"
   ]
  },
  {
   "cell_type": "code",
   "execution_count": null,
   "id": "be44a0b3",
   "metadata": {},
   "outputs": [],
   "source": []
  }
 ],
 "metadata": {
  "kernelspec": {
   "display_name": "Python 3 (ipykernel)",
   "language": "python",
   "name": "python3"
  },
  "language_info": {
   "codemirror_mode": {
    "name": "ipython",
    "version": 3
   },
   "file_extension": ".py",
   "mimetype": "text/x-python",
   "name": "python",
   "nbconvert_exporter": "python",
   "pygments_lexer": "ipython3",
   "version": "3.12.3"
  }
 },
 "nbformat": 4,
 "nbformat_minor": 5
}
